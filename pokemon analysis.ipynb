{
 "cells": [
  {
   "cell_type": "code",
   "execution_count": 6,
   "metadata": {},
   "outputs": [],
   "source": [
    "import pandas as pd\n",
    "import numpy as np\n",
    "import matplotlib.pyplot as plt\n",
    "import sklearn\n",
    "from sklearn.cluster import KMeans\n",
    "\n",
    "%matplotlib inline"
   ]
  },
  {
   "cell_type": "code",
   "execution_count": 2,
   "metadata": {},
   "outputs": [],
   "source": [
    "df = pd.read_csv('C:\\\\Users\\\\tilleymusprime\\\\Desktop\\\\pokemon.csv')\n",
    "##The goal of this project is to use kmeans clustering to identify the different types of pokemon.\n",
    "#For this exercise, we will exclude the pokemon type category so we can focus more on attack, defense, special attack, and speed\n",
    "#The data was scraped from https://pokemondb.net/pokedex/all?source=post_page---------------------------\n",
    "# and the webscraping project was found at https://towardsdatascience.com/web-scraping-html-tables-with-python-c9baba21059\n",
    "\n",
    "#Side Note: Personally, I am not very familiar with the pokemon after 300 so some summaries will just have the red/blue \n",
    "#pokemon listed in them."
   ]
  },
  {
   "cell_type": "code",
   "execution_count": 3,
   "metadata": {},
   "outputs": [
    {
     "data": {
      "text/plain": [
       "Index(['Unnamed: 0', '#', 'Name', 'Type', 'Total', 'HP', 'Attack', 'Defense',\n",
       "       'Sp. Atk', 'Sp. Def', 'Speed'],\n",
       "      dtype='object')"
      ]
     },
     "execution_count": 3,
     "metadata": {},
     "output_type": "execute_result"
    }
   ],
   "source": [
    "df.columns\n",
    "#Name: The name of the pokemon\n",
    "#Type: The type(water, grass, fire, poison, etc.)\n",
    "#Total: The total number of base stats)\n",
    "#HP: Health"
   ]
  },
  {
   "cell_type": "code",
   "execution_count": 25,
   "metadata": {},
   "outputs": [],
   "source": [
    "df1 = df[['Name', 'Type', 'Total', 'HP', 'Attack', 'Defense', 'Sp. Atk', 'Sp. Def', 'Speed']]"
   ]
  },
  {
   "cell_type": "code",
   "execution_count": 26,
   "metadata": {},
   "outputs": [
    {
     "data": {
      "text/html": [
       "<div>\n",
       "<style scoped>\n",
       "    .dataframe tbody tr th:only-of-type {\n",
       "        vertical-align: middle;\n",
       "    }\n",
       "\n",
       "    .dataframe tbody tr th {\n",
       "        vertical-align: top;\n",
       "    }\n",
       "\n",
       "    .dataframe thead th {\n",
       "        text-align: right;\n",
       "    }\n",
       "</style>\n",
       "<table border=\"1\" class=\"dataframe\">\n",
       "  <thead>\n",
       "    <tr style=\"text-align: right;\">\n",
       "      <th></th>\n",
       "      <th>Name</th>\n",
       "      <th>Type</th>\n",
       "      <th>Total</th>\n",
       "      <th>HP</th>\n",
       "      <th>Attack</th>\n",
       "      <th>Defense</th>\n",
       "      <th>Sp. Atk</th>\n",
       "      <th>Sp. Def</th>\n",
       "      <th>Speed</th>\n",
       "    </tr>\n",
       "  </thead>\n",
       "  <tbody>\n",
       "    <tr>\n",
       "      <th>0</th>\n",
       "      <td>Bulbasaur</td>\n",
       "      <td>GrassPoison</td>\n",
       "      <td>318</td>\n",
       "      <td>45</td>\n",
       "      <td>49</td>\n",
       "      <td>49</td>\n",
       "      <td>65</td>\n",
       "      <td>65</td>\n",
       "      <td>45</td>\n",
       "    </tr>\n",
       "    <tr>\n",
       "      <th>1</th>\n",
       "      <td>Ivysaur</td>\n",
       "      <td>GrassPoison</td>\n",
       "      <td>405</td>\n",
       "      <td>60</td>\n",
       "      <td>62</td>\n",
       "      <td>63</td>\n",
       "      <td>80</td>\n",
       "      <td>80</td>\n",
       "      <td>60</td>\n",
       "    </tr>\n",
       "    <tr>\n",
       "      <th>2</th>\n",
       "      <td>Venusaur</td>\n",
       "      <td>GrassPoison</td>\n",
       "      <td>525</td>\n",
       "      <td>80</td>\n",
       "      <td>82</td>\n",
       "      <td>83</td>\n",
       "      <td>100</td>\n",
       "      <td>100</td>\n",
       "      <td>80</td>\n",
       "    </tr>\n",
       "    <tr>\n",
       "      <th>3</th>\n",
       "      <td>VenusaurMega Venusaur</td>\n",
       "      <td>GrassPoison</td>\n",
       "      <td>625</td>\n",
       "      <td>80</td>\n",
       "      <td>100</td>\n",
       "      <td>123</td>\n",
       "      <td>122</td>\n",
       "      <td>120</td>\n",
       "      <td>80</td>\n",
       "    </tr>\n",
       "    <tr>\n",
       "      <th>4</th>\n",
       "      <td>Charmander</td>\n",
       "      <td>Fire</td>\n",
       "      <td>309</td>\n",
       "      <td>39</td>\n",
       "      <td>52</td>\n",
       "      <td>43</td>\n",
       "      <td>60</td>\n",
       "      <td>50</td>\n",
       "      <td>65</td>\n",
       "    </tr>\n",
       "  </tbody>\n",
       "</table>\n",
       "</div>"
      ],
      "text/plain": [
       "                    Name         Type  Total  HP  Attack  Defense  Sp. Atk  \\\n",
       "0              Bulbasaur  GrassPoison    318  45      49       49       65   \n",
       "1                Ivysaur  GrassPoison    405  60      62       63       80   \n",
       "2               Venusaur  GrassPoison    525  80      82       83      100   \n",
       "3  VenusaurMega Venusaur  GrassPoison    625  80     100      123      122   \n",
       "4             Charmander         Fire    309  39      52       43       60   \n",
       "\n",
       "   Sp. Def  Speed  \n",
       "0       65     45  \n",
       "1       80     60  \n",
       "2      100     80  \n",
       "3      120     80  \n",
       "4       50     65  "
      ]
     },
     "execution_count": 26,
     "metadata": {},
     "output_type": "execute_result"
    }
   ],
   "source": [
    "df1.head()\n",
    "#Concerns:\n",
    "#The biggest concern going into the clustering exercise is the evolution problem.  For instance, Bulbasaur evolves into\n",
    "#Ivysaur so an Ivysaur is basically just a Bulbasaur with higher stats.\n",
    "#Because of this, it is very possible that the algorithm could just group the pokemon into unevolved, middle, and fully \n",
    "#evolved groups which wouldn't help us too much because we already know it is better to have an Ivysaur than a Bulbasaur\n",
    "#(otherwise there would be no need to evolve pokemon)"
   ]
  },
  {
   "cell_type": "code",
   "execution_count": 27,
   "metadata": {},
   "outputs": [
    {
     "data": {
      "image/png": "[encoded data removed]",
      "text/plain": [
       "<Figure size 432x288 with 1 Axes>"
      ]
     },
     "metadata": {
      "needs_background": "light"
     },
     "output_type": "display_data"
    }
   ],
   "source": [
    "#Now that we know what we want to do and what we want to avoid, let's determine the ideal number of clusters.\n",
    "\n",
    "ks = range(1,11)\n",
    "inertias = []\n",
    "\n",
    "for k in ks:\n",
    "    # Create a KMeans instance with k clusters: model\n",
    "    model = KMeans(n_clusters=k)\n",
    "    \n",
    "    # Fit model to samples\n",
    "    model.fit(df1.iloc[:, 2:])\n",
    "    \n",
    "    # Append the inertia to the list of inertias\n",
    "    inertias.append(model.inertia_)\n",
    "    \n",
    "# Plot ks vs inertias\n",
    "plt.plot(ks, inertias, '-o')\n",
    "plt.xlabel('number of clusters, k')\n",
    "plt.ylabel('inertia')\n",
    "plt.xticks(ks)\n",
    "plt.show()\n",
    "#It looks like there are 3 different types (Let's see if our concern was correct)"
   ]
  },
  {
   "cell_type": "code",
   "execution_count": 29,
   "metadata": {},
   "outputs": [
    {
     "name": "stderr",
     "output_type": "stream",
     "text": [
      "C:\\Users\\tilleymusprime\\Anaconda3\\lib\\site-packages\\ipykernel_launcher.py:2: SettingWithCopyWarning: \n",
      "A value is trying to be set on a copy of a slice from a DataFrame.\n",
      "Try using .loc[row_indexer,col_indexer] = value instead\n",
      "\n",
      "See the caveats in the documentation: http://pandas.pydata.org/pandas-docs/stable/indexing.html#indexing-view-versus-copy\n",
      "  \n"
     ]
    },
    {
     "data": {
      "text/plain": [
       "1    456\n",
       "0    319\n",
       "2    151\n",
       "Name: cluster, dtype: int64"
      ]
     },
     "execution_count": 29,
     "metadata": {},
     "output_type": "execute_result"
    }
   ],
   "source": [
    "cluster = KMeans(n_clusters=3)\n",
    "df1['cluster'] = cluster.fit_predict(df1.iloc[:, 2:])\n",
    "df1['cluster'].value_counts()"
   ]
  },
  {
   "cell_type": "code",
   "execution_count": 44,
   "metadata": {},
   "outputs": [],
   "source": [
    "cluster0 = df1[df1['cluster'] == 0]\n",
    "cluster1 = df1[df1['cluster'] == 1]\n",
    "cluster2 = df1[df1['cluster'] == 2]"
   ]
  },
  {
   "cell_type": "code",
   "execution_count": 45,
   "metadata": {},
   "outputs": [],
   "source": [
    "cluster0.to_csv('C:\\\\Users\\\\tilleymusprime\\\\Desktop\\\\pokemoncluster0.csv')\n",
    "cluster1.to_csv('C:\\\\Users\\\\tilleymusprime\\\\Desktop\\\\pokemoncluster1.csv')\n",
    "cluster2.to_csv('C:\\\\Users\\\\tilleymusprime\\\\Desktop\\\\pokemoncluster2.csv')"
   ]
  },
  {
   "cell_type": "code",
   "execution_count": 46,
   "metadata": {},
   "outputs": [
    {
     "data": {
      "text/plain": [
       "Index(['Name', 'Type', 'Total', 'HP', 'Attack', 'Defense', 'Sp. Atk',\n",
       "       'Sp. Def', 'Speed', 'cluster'],\n",
       "      dtype='object')"
      ]
     },
     "execution_count": 46,
     "metadata": {},
     "output_type": "execute_result"
    }
   ],
   "source": [
    "#After looking through the spreadsheets, it looks like our intial concern was correct.\n",
    "#The first cluster (cluster 0) seems to consist of the most powerful pokemon (both fully evolved and the rare ones)\n",
    "#The second cluster (cluster 1) seems to consist of midlevel pokemon and the second evolution phase of 3 stage pokemon\n",
    "#(Sorry Machamp and Victreebell fans)\n",
    "\n",
    "#To fix this issue, we will re-run the clustering scenario but this time just for cluster 0.\n",
    "#We want to use cluster 0 because that is when each pokemon is most defined stat wise\n",
    "\n",
    "cluster2.columns"
   ]
  },
  {
   "cell_type": "code",
   "execution_count": 47,
   "metadata": {},
   "outputs": [],
   "source": [
    "newdf = cluster2[['Name', 'Type', 'Total', 'Attack', 'Defense', 'Sp. Atk', 'Sp. Def', 'Speed']]\n",
    "#Now that we've removed the cluster number from cluster 0, we will re-run our clustering algorithm and see what happens"
   ]
  },
  {
   "cell_type": "code",
   "execution_count": 48,
   "metadata": {},
   "outputs": [
    {
     "data": {
      "image/png": "[encoded data removed]",
      "text/plain": [
       "<Figure size 432x288 with 1 Axes>"
      ]
     },
     "metadata": {
      "needs_background": "light"
     },
     "output_type": "display_data"
    }
   ],
   "source": [
    "ks = range(1,11)\n",
    "inertias = []\n",
    "\n",
    "for k in ks:\n",
    "    # Create a KMeans instance with k clusters: model\n",
    "    model = KMeans(n_clusters=k)\n",
    "    \n",
    "    # Fit model to samples\n",
    "    model.fit(newdf.iloc[:, 2:])\n",
    "    \n",
    "    # Append the inertia to the list of inertias\n",
    "    inertias.append(model.inertia_)\n",
    "    \n",
    "# Plot ks vs inertias\n",
    "plt.plot(ks, inertias, '-o')\n",
    "plt.xlabel('number of clusters, k')\n",
    "plt.ylabel('inertia')\n",
    "plt.xticks(ks)\n",
    "plt.show()\n",
    "#Let's try 3 clusters first and see what we get"
   ]
  },
  {
   "cell_type": "code",
   "execution_count": 49,
   "metadata": {},
   "outputs": [
    {
     "name": "stderr",
     "output_type": "stream",
     "text": [
      "C:\\Users\\tilleymusprime\\Anaconda3\\lib\\site-packages\\ipykernel_launcher.py:2: SettingWithCopyWarning: \n",
      "A value is trying to be set on a copy of a slice from a DataFrame.\n",
      "Try using .loc[row_indexer,col_indexer] = value instead\n",
      "\n",
      "See the caveats in the documentation: http://pandas.pydata.org/pandas-docs/stable/indexing.html#indexing-view-versus-copy\n",
      "  \n"
     ]
    },
    {
     "data": {
      "text/plain": [
       "0    70\n",
       "2    42\n",
       "1    39\n",
       "Name: cluster, dtype: int64"
      ]
     },
     "execution_count": 49,
     "metadata": {},
     "output_type": "execute_result"
    }
   ],
   "source": [
    "cluster = KMeans(n_clusters=3)\n",
    "newdf['cluster'] = cluster.fit_predict(newdf.iloc[:, 2:])\n",
    "newdf['cluster'].value_counts()"
   ]
  },
  {
   "cell_type": "code",
   "execution_count": 50,
   "metadata": {},
   "outputs": [],
   "source": [
    "cluster01 = newdf[newdf['cluster'] == 0]\n",
    "cluster11 = newdf[newdf['cluster'] == 1]\n",
    "cluster21 = newdf[newdf['cluster'] == 2]"
   ]
  },
  {
   "cell_type": "code",
   "execution_count": 51,
   "metadata": {},
   "outputs": [
    {
     "data": {
      "text/html": [
       "<div>\n",
       "<style scoped>\n",
       "    .dataframe tbody tr th:only-of-type {\n",
       "        vertical-align: middle;\n",
       "    }\n",
       "\n",
       "    .dataframe tbody tr th {\n",
       "        vertical-align: top;\n",
       "    }\n",
       "\n",
       "    .dataframe thead th {\n",
       "        text-align: right;\n",
       "    }\n",
       "</style>\n",
       "<table border=\"1\" class=\"dataframe\">\n",
       "  <thead>\n",
       "    <tr style=\"text-align: right;\">\n",
       "      <th></th>\n",
       "      <th>Total</th>\n",
       "      <th>Attack</th>\n",
       "      <th>Defense</th>\n",
       "      <th>Sp. Atk</th>\n",
       "      <th>Sp. Def</th>\n",
       "      <th>Speed</th>\n",
       "      <th>cluster</th>\n",
       "    </tr>\n",
       "  </thead>\n",
       "  <tbody>\n",
       "    <tr>\n",
       "      <th>count</th>\n",
       "      <td>70.000000</td>\n",
       "      <td>70.000000</td>\n",
       "      <td>70.000000</td>\n",
       "      <td>70.000000</td>\n",
       "      <td>70.000000</td>\n",
       "      <td>70.000000</td>\n",
       "      <td>70.0</td>\n",
       "    </tr>\n",
       "    <tr>\n",
       "      <th>mean</th>\n",
       "      <td>590.628571</td>\n",
       "      <td>108.171429</td>\n",
       "      <td>79.257143</td>\n",
       "      <td>119.957143</td>\n",
       "      <td>90.057143</td>\n",
       "      <td>109.114286</td>\n",
       "      <td>0.0</td>\n",
       "    </tr>\n",
       "    <tr>\n",
       "      <th>std</th>\n",
       "      <td>20.062346</td>\n",
       "      <td>27.177874</td>\n",
       "      <td>16.370427</td>\n",
       "      <td>25.830235</td>\n",
       "      <td>23.288914</td>\n",
       "      <td>22.627765</td>\n",
       "      <td>0.0</td>\n",
       "    </tr>\n",
       "    <tr>\n",
       "      <th>min</th>\n",
       "      <td>550.000000</td>\n",
       "      <td>50.000000</td>\n",
       "      <td>20.000000</td>\n",
       "      <td>54.000000</td>\n",
       "      <td>20.000000</td>\n",
       "      <td>43.000000</td>\n",
       "      <td>0.0</td>\n",
       "    </tr>\n",
       "    <tr>\n",
       "      <th>25%</th>\n",
       "      <td>580.000000</td>\n",
       "      <td>90.000000</td>\n",
       "      <td>70.000000</td>\n",
       "      <td>100.000000</td>\n",
       "      <td>80.000000</td>\n",
       "      <td>100.000000</td>\n",
       "      <td>0.0</td>\n",
       "    </tr>\n",
       "    <tr>\n",
       "      <th>50%</th>\n",
       "      <td>600.000000</td>\n",
       "      <td>104.500000</td>\n",
       "      <td>80.000000</td>\n",
       "      <td>122.500000</td>\n",
       "      <td>90.000000</td>\n",
       "      <td>104.000000</td>\n",
       "      <td>0.0</td>\n",
       "    </tr>\n",
       "    <tr>\n",
       "      <th>75%</th>\n",
       "      <td>600.000000</td>\n",
       "      <td>127.750000</td>\n",
       "      <td>90.000000</td>\n",
       "      <td>135.000000</td>\n",
       "      <td>100.000000</td>\n",
       "      <td>121.000000</td>\n",
       "      <td>0.0</td>\n",
       "    </tr>\n",
       "    <tr>\n",
       "      <th>max</th>\n",
       "      <td>640.000000</td>\n",
       "      <td>180.000000</td>\n",
       "      <td>111.000000</td>\n",
       "      <td>180.000000</td>\n",
       "      <td>154.000000</td>\n",
       "      <td>180.000000</td>\n",
       "      <td>0.0</td>\n",
       "    </tr>\n",
       "  </tbody>\n",
       "</table>\n",
       "</div>"
      ],
      "text/plain": [
       "            Total      Attack     Defense     Sp. Atk     Sp. Def       Speed  \\\n",
       "count   70.000000   70.000000   70.000000   70.000000   70.000000   70.000000   \n",
       "mean   590.628571  108.171429   79.257143  119.957143   90.057143  109.114286   \n",
       "std     20.062346   27.177874   16.370427   25.830235   23.288914   22.627765   \n",
       "min    550.000000   50.000000   20.000000   54.000000   20.000000   43.000000   \n",
       "25%    580.000000   90.000000   70.000000  100.000000   80.000000  100.000000   \n",
       "50%    600.000000  104.500000   80.000000  122.500000   90.000000  104.000000   \n",
       "75%    600.000000  127.750000   90.000000  135.000000  100.000000  121.000000   \n",
       "max    640.000000  180.000000  111.000000  180.000000  154.000000  180.000000   \n",
       "\n",
       "       cluster  \n",
       "count     70.0  \n",
       "mean       0.0  \n",
       "std        0.0  \n",
       "min        0.0  \n",
       "25%        0.0  \n",
       "50%        0.0  \n",
       "75%        0.0  \n",
       "max        0.0  "
      ]
     },
     "execution_count": 51,
     "metadata": {},
     "output_type": "execute_result"
    }
   ],
   "source": [
    "cluster01.describe()"
   ]
  },
  {
   "cell_type": "code",
   "execution_count": 52,
   "metadata": {},
   "outputs": [
    {
     "data": {
      "text/html": [
       "<div>\n",
       "<style scoped>\n",
       "    .dataframe tbody tr th:only-of-type {\n",
       "        vertical-align: middle;\n",
       "    }\n",
       "\n",
       "    .dataframe tbody tr th {\n",
       "        vertical-align: top;\n",
       "    }\n",
       "\n",
       "    .dataframe thead th {\n",
       "        text-align: right;\n",
       "    }\n",
       "</style>\n",
       "<table border=\"1\" class=\"dataframe\">\n",
       "  <thead>\n",
       "    <tr style=\"text-align: right;\">\n",
       "      <th></th>\n",
       "      <th>Total</th>\n",
       "      <th>Attack</th>\n",
       "      <th>Defense</th>\n",
       "      <th>Sp. Atk</th>\n",
       "      <th>Sp. Def</th>\n",
       "      <th>Speed</th>\n",
       "      <th>cluster</th>\n",
       "    </tr>\n",
       "  </thead>\n",
       "  <tbody>\n",
       "    <tr>\n",
       "      <th>count</th>\n",
       "      <td>39.000000</td>\n",
       "      <td>39.000000</td>\n",
       "      <td>39.000000</td>\n",
       "      <td>39.000000</td>\n",
       "      <td>39.000000</td>\n",
       "      <td>39.000000</td>\n",
       "      <td>39.0</td>\n",
       "    </tr>\n",
       "    <tr>\n",
       "      <th>mean</th>\n",
       "      <td>699.025641</td>\n",
       "      <td>138.282051</td>\n",
       "      <td>107.564103</td>\n",
       "      <td>134.025641</td>\n",
       "      <td>109.435897</td>\n",
       "      <td>99.692308</td>\n",
       "      <td>1.0</td>\n",
       "    </tr>\n",
       "    <tr>\n",
       "      <th>std</th>\n",
       "      <td>34.160216</td>\n",
       "      <td>25.781418</td>\n",
       "      <td>21.072300</td>\n",
       "      <td>28.717762</td>\n",
       "      <td>21.170728</td>\n",
       "      <td>15.786660</td>\n",
       "      <td>0.0</td>\n",
       "    </tr>\n",
       "    <tr>\n",
       "      <th>min</th>\n",
       "      <td>660.000000</td>\n",
       "      <td>90.000000</td>\n",
       "      <td>60.000000</td>\n",
       "      <td>80.000000</td>\n",
       "      <td>65.000000</td>\n",
       "      <td>71.000000</td>\n",
       "      <td>1.0</td>\n",
       "    </tr>\n",
       "    <tr>\n",
       "      <th>25%</th>\n",
       "      <td>680.000000</td>\n",
       "      <td>120.000000</td>\n",
       "      <td>92.500000</td>\n",
       "      <td>113.000000</td>\n",
       "      <td>95.000000</td>\n",
       "      <td>90.000000</td>\n",
       "      <td>1.0</td>\n",
       "    </tr>\n",
       "    <tr>\n",
       "      <th>50%</th>\n",
       "      <td>680.000000</td>\n",
       "      <td>137.000000</td>\n",
       "      <td>100.000000</td>\n",
       "      <td>131.000000</td>\n",
       "      <td>100.000000</td>\n",
       "      <td>95.000000</td>\n",
       "      <td>1.0</td>\n",
       "    </tr>\n",
       "    <tr>\n",
       "      <th>75%</th>\n",
       "      <td>700.000000</td>\n",
       "      <td>160.000000</td>\n",
       "      <td>120.000000</td>\n",
       "      <td>154.000000</td>\n",
       "      <td>120.000000</td>\n",
       "      <td>110.000000</td>\n",
       "      <td>1.0</td>\n",
       "    </tr>\n",
       "    <tr>\n",
       "      <th>max</th>\n",
       "      <td>780.000000</td>\n",
       "      <td>190.000000</td>\n",
       "      <td>160.000000</td>\n",
       "      <td>194.000000</td>\n",
       "      <td>160.000000</td>\n",
       "      <td>140.000000</td>\n",
       "      <td>1.0</td>\n",
       "    </tr>\n",
       "  </tbody>\n",
       "</table>\n",
       "</div>"
      ],
      "text/plain": [
       "            Total      Attack     Defense     Sp. Atk     Sp. Def       Speed  \\\n",
       "count   39.000000   39.000000   39.000000   39.000000   39.000000   39.000000   \n",
       "mean   699.025641  138.282051  107.564103  134.025641  109.435897   99.692308   \n",
       "std     34.160216   25.781418   21.072300   28.717762   21.170728   15.786660   \n",
       "min    660.000000   90.000000   60.000000   80.000000   65.000000   71.000000   \n",
       "25%    680.000000  120.000000   92.500000  113.000000   95.000000   90.000000   \n",
       "50%    680.000000  137.000000  100.000000  131.000000  100.000000   95.000000   \n",
       "75%    700.000000  160.000000  120.000000  154.000000  120.000000  110.000000   \n",
       "max    780.000000  190.000000  160.000000  194.000000  160.000000  140.000000   \n",
       "\n",
       "       cluster  \n",
       "count     39.0  \n",
       "mean       1.0  \n",
       "std        0.0  \n",
       "min        1.0  \n",
       "25%        1.0  \n",
       "50%        1.0  \n",
       "75%        1.0  \n",
       "max        1.0  "
      ]
     },
     "execution_count": 52,
     "metadata": {},
     "output_type": "execute_result"
    }
   ],
   "source": [
    "cluster11.describe()"
   ]
  },
  {
   "cell_type": "code",
   "execution_count": 53,
   "metadata": {},
   "outputs": [
    {
     "data": {
      "text/html": [
       "<div>\n",
       "<style scoped>\n",
       "    .dataframe tbody tr th:only-of-type {\n",
       "        vertical-align: middle;\n",
       "    }\n",
       "\n",
       "    .dataframe tbody tr th {\n",
       "        vertical-align: top;\n",
       "    }\n",
       "\n",
       "    .dataframe thead th {\n",
       "        text-align: right;\n",
       "    }\n",
       "</style>\n",
       "<table border=\"1\" class=\"dataframe\">\n",
       "  <thead>\n",
       "    <tr style=\"text-align: right;\">\n",
       "      <th></th>\n",
       "      <th>Total</th>\n",
       "      <th>Attack</th>\n",
       "      <th>Defense</th>\n",
       "      <th>Sp. Atk</th>\n",
       "      <th>Sp. Def</th>\n",
       "      <th>Speed</th>\n",
       "      <th>cluster</th>\n",
       "    </tr>\n",
       "  </thead>\n",
       "  <tbody>\n",
       "    <tr>\n",
       "      <th>count</th>\n",
       "      <td>42.000000</td>\n",
       "      <td>42.000000</td>\n",
       "      <td>42.000000</td>\n",
       "      <td>42.000000</td>\n",
       "      <td>42.000000</td>\n",
       "      <td>42.000000</td>\n",
       "      <td>42.0</td>\n",
       "    </tr>\n",
       "    <tr>\n",
       "      <th>mean</th>\n",
       "      <td>595.285714</td>\n",
       "      <td>115.190476</td>\n",
       "      <td>129.857143</td>\n",
       "      <td>91.476190</td>\n",
       "      <td>107.333333</td>\n",
       "      <td>69.023810</td>\n",
       "      <td>2.0</td>\n",
       "    </tr>\n",
       "    <tr>\n",
       "      <th>std</th>\n",
       "      <td>19.616178</td>\n",
       "      <td>32.061859</td>\n",
       "      <td>34.211374</td>\n",
       "      <td>29.833062</td>\n",
       "      <td>28.625987</td>\n",
       "      <td>25.386273</td>\n",
       "      <td>0.0</td>\n",
       "    </tr>\n",
       "    <tr>\n",
       "      <th>min</th>\n",
       "      <td>560.000000</td>\n",
       "      <td>50.000000</td>\n",
       "      <td>95.000000</td>\n",
       "      <td>40.000000</td>\n",
       "      <td>31.000000</td>\n",
       "      <td>13.000000</td>\n",
       "      <td>2.0</td>\n",
       "    </tr>\n",
       "    <tr>\n",
       "      <th>25%</th>\n",
       "      <td>580.000000</td>\n",
       "      <td>95.000000</td>\n",
       "      <td>109.250000</td>\n",
       "      <td>66.250000</td>\n",
       "      <td>95.000000</td>\n",
       "      <td>50.000000</td>\n",
       "      <td>2.0</td>\n",
       "    </tr>\n",
       "    <tr>\n",
       "      <th>50%</th>\n",
       "      <td>600.000000</td>\n",
       "      <td>110.000000</td>\n",
       "      <td>120.000000</td>\n",
       "      <td>92.500000</td>\n",
       "      <td>105.000000</td>\n",
       "      <td>75.000000</td>\n",
       "      <td>2.0</td>\n",
       "    </tr>\n",
       "    <tr>\n",
       "      <th>75%</th>\n",
       "      <td>600.000000</td>\n",
       "      <td>138.000000</td>\n",
       "      <td>137.000000</td>\n",
       "      <td>106.500000</td>\n",
       "      <td>118.750000</td>\n",
       "      <td>85.000000</td>\n",
       "      <td>2.0</td>\n",
       "    </tr>\n",
       "    <tr>\n",
       "      <th>max</th>\n",
       "      <td>640.000000</td>\n",
       "      <td>185.000000</td>\n",
       "      <td>230.000000</td>\n",
       "      <td>165.000000</td>\n",
       "      <td>200.000000</td>\n",
       "      <td>110.000000</td>\n",
       "      <td>2.0</td>\n",
       "    </tr>\n",
       "  </tbody>\n",
       "</table>\n",
       "</div>"
      ],
      "text/plain": [
       "            Total      Attack     Defense     Sp. Atk     Sp. Def       Speed  \\\n",
       "count   42.000000   42.000000   42.000000   42.000000   42.000000   42.000000   \n",
       "mean   595.285714  115.190476  129.857143   91.476190  107.333333   69.023810   \n",
       "std     19.616178   32.061859   34.211374   29.833062   28.625987   25.386273   \n",
       "min    560.000000   50.000000   95.000000   40.000000   31.000000   13.000000   \n",
       "25%    580.000000   95.000000  109.250000   66.250000   95.000000   50.000000   \n",
       "50%    600.000000  110.000000  120.000000   92.500000  105.000000   75.000000   \n",
       "75%    600.000000  138.000000  137.000000  106.500000  118.750000   85.000000   \n",
       "max    640.000000  185.000000  230.000000  165.000000  200.000000  110.000000   \n",
       "\n",
       "       cluster  \n",
       "count     42.0  \n",
       "mean       2.0  \n",
       "std        0.0  \n",
       "min        2.0  \n",
       "25%        2.0  \n",
       "50%        2.0  \n",
       "75%        2.0  \n",
       "max        2.0  "
      ]
     },
     "execution_count": 53,
     "metadata": {},
     "output_type": "execute_result"
    }
   ],
   "source": [
    "cluster21.describe()"
   ]
  },
  {
   "cell_type": "code",
   "execution_count": 54,
   "metadata": {},
   "outputs": [],
   "source": [
    "#After looking at the summary statistics above, it looks like cluster 0 is the cluster for high speed pokemon\n",
    "#Cluster 1 has higher attack, defense, special attack, and special defense\n",
    "#Cluster 2 seems to be the slower pokemon but they have higher attack and defense than cluster 0 but lower special attack\n",
    "#Cluster 2 also seems to have a higher defense than both cluters.  \n",
    "#For example, the minimum defense for cluster 2 is greater than 75%  of the pokemon in cluster 0 and is still better than\n",
    "# the bottom 25% of cluster 1\n",
    "\n",
    "\n",
    "#To get further insights and see what pokemon belong to which cluster, lets take a look at the spreadsheets\n",
    "##cluster01.to_csv('C:\\\\Users\\\\tilleymusprime\\\\Desktop\\\\c0pokemoncluster0.csv')\n",
    "##cluster11.to_csv('C:\\\\Users\\\\tilleymusprime\\\\Desktop\\\\c0pokemoncluster1.csv')\n",
    "##cluster21.to_csv('C:\\\\Users\\\\tilleymusprime\\\\Desktop\\\\c0pokemoncluster2.csv')"
   ]
  },
  {
   "cell_type": "code",
   "execution_count": 55,
   "metadata": {},
   "outputs": [
    {
     "data": {
      "text/plain": [
       "Psychic           7\n",
       "Electric          4\n",
       "ElectricFlying    3\n",
       "WaterFighting     2\n",
       "Dark              2\n",
       "FireFlying        2\n",
       "PsychicFairy      2\n",
       "WaterDark         2\n",
       "GroundFlying      2\n",
       "NormalFighting    2\n",
       "RockFlying        2\n",
       "Fire              2\n",
       "Flying            2\n",
       "DragonPsychic     2\n",
       "DarkDragon        2\n",
       "FightingSteel     1\n",
       "Grass             1\n",
       "Ghost             1\n",
       "FireSteel         1\n",
       "PsychicGhost      1\n",
       "BugSteel          1\n",
       "Water             1\n",
       "Fairy             1\n",
       "RockFighting      1\n",
       "GrassFlying       1\n",
       "Normal            1\n",
       "SteelPsychic      1\n",
       "BugFire           1\n",
       "DarkFire          1\n",
       "FightingGhost     1\n",
       "GrassDragon       1\n",
       "Ice               1\n",
       "PsychicFire       1\n",
       "RockPoison        1\n",
       "BugFighting       1\n",
       "FireFighting      1\n",
       "FireDragon        1\n",
       "NormalPsychic     1\n",
       "DragonGround      1\n",
       "GhostPoison       1\n",
       "NormalFlying      1\n",
       "PsychicGrass      1\n",
       "FireGhost         1\n",
       "GrassFighting     1\n",
       "ElectricFairy     1\n",
       "Dragon            1\n",
       "DragonFlying      1\n",
       "Name: Type, dtype: int64"
      ]
     },
     "execution_count": 55,
     "metadata": {},
     "output_type": "execute_result"
    }
   ],
   "source": [
    "#Cluster 0 (Speed pokemon): Charizard, Pidgeot, Arcanine, Alakazaam, Gengar, Aerodactyl, Zapdos, Moltres,\n",
    "#Mew, Houndoom, Raikou, Entei\n",
    "\n",
    "#Cluster 1 (High-Attack): Mewtwo, Tyranitar, Lugia, Ho-oh.\n",
    "#It looks like this cluster focuses more on later pokemon than the original games\n",
    "\n",
    "#Cluster 2 (High-Defense, high attack, low-speed): Venusaur, Blastoise, Slowbro, Kangaskhan, Gyrados, Articuno, Dragonite\n",
    "\n",
    "#Let's take a look and also see if type plays a factor in how a pokemon develops\n",
    "\n",
    "cluster01['Type'].value_counts()"
   ]
  },
  {
   "cell_type": "code",
   "execution_count": 56,
   "metadata": {},
   "outputs": [
    {
     "data": {
      "text/plain": [
       "DragonFlying       3\n",
       "Normal             3\n",
       "DragonIce          3\n",
       "Psychic            2\n",
       "GhostDragon        2\n",
       "Water              2\n",
       "PsychicSteel       2\n",
       "DragonPsychic      2\n",
       "DragonGround       2\n",
       "PsychicGhost       2\n",
       "PsychicFlying      1\n",
       "SteelPsychic       1\n",
       "RockFairy          1\n",
       "GroundFire         1\n",
       "PsychicDragon      1\n",
       "DarkFlying         1\n",
       "PsychicDark        1\n",
       "RockDark           1\n",
       "Fairy              1\n",
       "FireFlying         1\n",
       "PsychicFighting    1\n",
       "SteelDragon        1\n",
       "Ground             1\n",
       "WaterDragon        1\n",
       "DragonElectric     1\n",
       "DragonFire         1\n",
       "Name: Type, dtype: int64"
      ]
     },
     "execution_count": 56,
     "metadata": {},
     "output_type": "execute_result"
    }
   ],
   "source": [
    "cluster11['Type'].value_counts()"
   ]
  },
  {
   "cell_type": "code",
   "execution_count": 58,
   "metadata": {},
   "outputs": [
    {
     "data": {
      "text/plain": [
       "Psychic            4\n",
       "Steel              3\n",
       "Water              3\n",
       "BugFighting        2\n",
       "DragonFairy        1\n",
       "RockFairy          1\n",
       "RockDark           1\n",
       "FireGround         1\n",
       "Rock               1\n",
       "RockSteel          1\n",
       "DragonFighting     1\n",
       "GrassIce           1\n",
       "SteelGround        1\n",
       "WaterPsychic       1\n",
       "GrassSteel         1\n",
       "SteelFairy         1\n",
       "SteelPsychic       1\n",
       "DragonGround       1\n",
       "GrassFairy         1\n",
       "WaterFairy         1\n",
       "FireWater          1\n",
       "GrassPoison        1\n",
       "SteelFlying        1\n",
       "PsychicFighting    1\n",
       "BugFlying          1\n",
       "ElectricDragon     1\n",
       "WaterGround        1\n",
       "BugSteel           1\n",
       "IceFlying          1\n",
       "WaterDark          1\n",
       "SteelFighting      1\n",
       "Normal             1\n",
       "Ice                1\n",
       "DragonFlying       1\n",
       "Name: Type, dtype: int64"
      ]
     },
     "execution_count": 58,
     "metadata": {},
     "output_type": "execute_result"
    }
   ],
   "source": [
    "\n",
    "cluster21['Type'].value_counts()"
   ]
  },
  {
   "cell_type": "code",
   "execution_count": null,
   "metadata": {},
   "outputs": [],
   "source": [
    "##Psychic pokemon appear to be the most versatile as they have multiple entries in each cluster"
   ]
  },
  {
   "cell_type": "code",
   "execution_count": null,
   "metadata": {},
   "outputs": [],
   "source": []
  },
  {
   "cell_type": "code",
   "execution_count": null,
   "metadata": {},
   "outputs": [],
   "source": []
  }
 ],
 "metadata": {
  "kernelspec": {
   "display_name": "Python 3",
   "language": "python",
   "name": "python3"
  },
  "language_info": {
   "codemirror_mode": {
    "name": "ipython",
    "version": 3
   },
   "file_extension": ".py",
   "mimetype": "text/x-python",
   "name": "python",
   "nbconvert_exporter": "python",
   "pygments_lexer": "ipython3",
   "version": "3.7.1"
  }
 },
 "nbformat": 4,
 "nbformat_minor": 2
}
